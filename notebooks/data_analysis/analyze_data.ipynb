{
 "cells": [
  {
   "cell_type": "code",
   "execution_count": 21,
   "outputs": [],
   "source": [
    "import numpy as np\n",
    "import seaborn as sns\n",
    "import pandas as pd\n",
    "import matplotlib.pyplot as plt\n",
    "from project.models.eth_predictor import EthPredictor\n",
    "from project.datatools.trajpred_dataset import TrajpredDataset\n",
    "sns.set_theme()"
   ],
   "metadata": {
    "collapsed": false,
    "pycharm": {
     "name": "#%%\n"
    }
   }
  },
  {
   "cell_type": "code",
   "execution_count": 22,
   "outputs": [],
   "source": [
    "# ------------\n",
    "# Load Model\n",
    "# ------------\n",
    "\n",
    "# We also have to load the model processor, because we need to know how to process the data so we can also analyze the\n",
    "# direct inputs to the model.\n",
    "from project.training_routines.ewc import EwcPredictor\n",
    "\n",
    "save_dir = '../../saves/EthPredictor/eth/'\n",
    "model = EwcPredictor.load_from_checkpoint(save_dir+'final.ckpt')\n"
   ],
   "metadata": {
    "collapsed": false,
    "pycharm": {
     "name": "#%%\n"
    }
   }
  },
  {
   "cell_type": "code",
   "execution_count": 30,
   "outputs": [
    {
     "name": "stderr",
     "output_type": "stream",
     "text": [
      "  0%|          | 0/1 [00:00<?, ?it/s]\n",
      "  0%|          | 0/415 [00:00<?, ?it/s]\u001B[A\n",
      "  0%|          | 2/415 [00:00<00:46,  8.95it/s]\u001B[A\n",
      "  1%|          | 4/415 [00:00<00:42,  9.78it/s]\u001B[A\n",
      "  1%|          | 5/415 [00:00<00:51,  7.95it/s]\u001B[A\n",
      "  2%|▏         | 7/415 [00:00<00:45,  8.89it/s]\u001B[A\n",
      "  2%|▏         | 10/415 [00:00<00:42,  9.44it/s]\u001B[A\n",
      "  3%|▎         | 12/415 [00:01<00:40,  9.86it/s]\u001B[A\n",
      "  4%|▍         | 16/415 [00:01<00:37, 10.76it/s]\u001B[A\n",
      "  4%|▍         | 18/415 [00:01<00:35, 11.33it/s]\u001B[A\n",
      "  5%|▍         | 20/415 [00:01<00:35, 11.10it/s]\u001B[A\n",
      "  6%|▌         | 25/415 [00:01<00:28, 13.74it/s]\u001B[A\n",
      "  7%|▋         | 27/415 [00:02<00:26, 14.52it/s]\u001B[A\n",
      "  7%|▋         | 31/415 [00:02<00:24, 15.96it/s]\u001B[A\n",
      "  8%|▊         | 33/415 [00:02<00:25, 15.07it/s]\u001B[A\n",
      "  8%|▊         | 35/415 [00:02<00:24, 15.39it/s]\u001B[A\n",
      "  9%|▉         | 37/415 [00:02<00:23, 16.32it/s]\u001B[A\n",
      "  9%|▉         | 39/415 [00:02<00:28, 13.00it/s]\u001B[A\n",
      " 10%|█         | 43/415 [00:03<00:26, 14.21it/s]\u001B[A\n",
      " 11%|█         | 45/415 [00:03<00:25, 14.43it/s]\u001B[A\n",
      " 11%|█▏        | 47/415 [00:03<00:34, 10.74it/s]\u001B[A\n",
      " 12%|█▏        | 49/415 [00:03<00:30, 11.90it/s]\u001B[A\n",
      " 12%|█▏        | 51/415 [00:03<00:31, 11.54it/s]\u001B[A\n",
      " 13%|█▎        | 53/415 [00:03<00:28, 12.66it/s]\u001B[A\n",
      " 13%|█▎        | 55/415 [00:04<00:27, 13.33it/s]\u001B[A\n",
      " 14%|█▍        | 58/415 [00:04<00:27, 13.02it/s]\u001B[A\n",
      " 14%|█▍        | 60/415 [00:04<00:25, 13.88it/s]\u001B[A\n",
      " 15%|█▍        | 62/415 [00:04<00:26, 13.54it/s]\u001B[A\n",
      " 15%|█▌        | 64/415 [00:04<00:30, 11.36it/s]\u001B[A\n",
      " 16%|█▌        | 66/415 [00:05<00:30, 11.35it/s]\u001B[A\n",
      " 16%|█▋        | 68/415 [00:05<00:26, 12.95it/s]\u001B[A\n",
      " 17%|█▋        | 70/415 [00:05<00:29, 11.61it/s]\u001B[A\n",
      " 18%|█▊        | 73/415 [00:05<00:25, 13.16it/s]\u001B[A\n",
      " 18%|█▊        | 75/415 [00:05<00:27, 12.30it/s]\u001B[A\n",
      " 19%|█▊        | 77/415 [00:05<00:29, 11.35it/s]\u001B[A\n",
      " 19%|█▉        | 79/415 [00:06<00:34,  9.78it/s]\u001B[A\n",
      " 20%|█▉        | 81/415 [00:06<00:37,  9.00it/s]\u001B[A\n",
      " 20%|█▉        | 82/415 [00:06<00:46,  7.21it/s]\u001B[A\n",
      " 20%|██        | 83/415 [00:06<00:47,  7.03it/s]\u001B[A\n",
      " 20%|██        | 84/415 [00:06<00:45,  7.32it/s]\u001B[A\n",
      " 21%|██        | 87/415 [00:07<00:37,  8.81it/s]\u001B[A\n",
      " 21%|██▏       | 89/415 [00:07<00:31, 10.22it/s]\u001B[A\n",
      " 22%|██▏       | 91/415 [00:07<00:27, 11.57it/s]\u001B[A\n",
      " 22%|██▏       | 93/415 [00:07<00:28, 11.15it/s]\u001B[A\n",
      " 23%|██▎       | 95/415 [00:07<00:30, 10.63it/s]\u001B[A\n",
      " 23%|██▎       | 97/415 [00:07<00:27, 11.77it/s]\u001B[A\n",
      " 24%|██▍       | 99/415 [00:08<00:25, 12.29it/s]\u001B[A\n",
      " 24%|██▍       | 101/415 [00:08<00:22, 13.89it/s]\u001B[A\n",
      " 25%|██▍       | 103/415 [00:08<00:24, 12.78it/s]\u001B[A\n",
      " 25%|██▌       | 105/415 [00:08<00:28, 10.98it/s]\u001B[A\n",
      " 26%|██▌       | 107/415 [00:08<00:31,  9.67it/s]\u001B[A\n",
      " 26%|██▋       | 109/415 [00:09<00:32,  9.28it/s]\u001B[A\n",
      " 27%|██▋       | 111/415 [00:09<00:36,  8.38it/s]\u001B[A\n",
      " 27%|██▋       | 112/415 [00:09<00:38,  7.89it/s]\u001B[A\n",
      " 27%|██▋       | 113/415 [00:09<00:40,  7.53it/s]\u001B[A\n",
      " 28%|██▊       | 118/415 [00:09<00:30,  9.80it/s]\u001B[A\n",
      " 29%|██▉       | 120/415 [00:09<00:26, 11.22it/s]\u001B[A\n",
      " 29%|██▉       | 122/415 [00:10<00:23, 12.59it/s]\u001B[A\n",
      " 30%|██▉       | 124/415 [00:10<00:26, 11.01it/s]\u001B[A\n",
      " 30%|███       | 126/415 [00:10<00:25, 11.34it/s]\u001B[A\n",
      " 31%|███       | 128/415 [00:10<00:25, 11.31it/s]\u001B[A\n",
      " 31%|███▏      | 130/415 [00:10<00:23, 12.06it/s]\u001B[A\n",
      " 32%|███▏      | 132/415 [00:10<00:23, 11.81it/s]\u001B[A\n",
      " 33%|███▎      | 135/415 [00:11<00:21, 12.97it/s]\u001B[A\n",
      " 33%|███▎      | 137/415 [00:11<00:25, 10.90it/s]\u001B[A\n",
      " 33%|███▎      | 139/415 [00:11<00:29,  9.36it/s]\u001B[A\n",
      " 34%|███▍      | 142/415 [00:11<00:26, 10.35it/s]\u001B[A\n",
      " 35%|███▍      | 144/415 [00:12<00:26, 10.15it/s]\u001B[A\n",
      " 35%|███▌      | 146/415 [00:12<00:25, 10.61it/s]\u001B[A\n",
      " 36%|███▌      | 148/415 [00:12<00:28,  9.35it/s]\u001B[A\n",
      " 36%|███▌      | 150/415 [00:12<00:27,  9.52it/s]\u001B[A\n",
      " 37%|███▋      | 152/415 [00:12<00:30,  8.67it/s]\u001B[A\n",
      " 37%|███▋      | 154/415 [00:13<00:28,  9.32it/s]\u001B[A\n",
      " 38%|███▊      | 156/415 [00:13<00:24, 10.69it/s]\u001B[A\n",
      " 38%|███▊      | 159/415 [00:13<00:23, 10.79it/s]\u001B[A\n",
      " 39%|███▉      | 161/415 [00:13<00:27,  9.23it/s]\u001B[A\n",
      " 40%|███▉      | 164/415 [00:13<00:22, 11.06it/s]\u001B[A\n",
      " 40%|████      | 166/415 [00:14<00:25,  9.74it/s]\u001B[A\n",
      " 40%|████      | 168/415 [00:14<00:28,  8.70it/s]\u001B[A\n",
      " 41%|████      | 170/415 [00:14<00:29,  8.31it/s]\u001B[A\n",
      " 41%|████      | 171/415 [00:14<00:29,  8.41it/s]\u001B[A\n",
      " 41%|████▏     | 172/415 [00:15<00:35,  6.91it/s]\u001B[A\n",
      " 42%|████▏     | 173/415 [00:15<00:34,  6.96it/s]\u001B[A\n",
      " 42%|████▏     | 174/415 [00:15<00:39,  6.05it/s]\u001B[A\n",
      " 42%|████▏     | 176/415 [00:15<00:32,  7.41it/s]\u001B[A\n",
      " 43%|████▎     | 178/415 [00:15<00:27,  8.51it/s]\u001B[A\n",
      " 43%|████▎     | 180/415 [00:15<00:25,  9.24it/s]\u001B[A\n",
      " 44%|████▍     | 182/415 [00:16<00:22, 10.58it/s]\u001B[A\n",
      " 45%|████▍     | 185/415 [00:16<00:19, 12.02it/s]\u001B[A\n",
      " 45%|████▌     | 187/415 [00:16<00:19, 11.56it/s]\u001B[A\n",
      " 46%|████▌     | 191/415 [00:16<00:15, 14.29it/s]\u001B[A\n",
      " 47%|████▋     | 193/415 [00:16<00:14, 15.45it/s]\u001B[A\n",
      " 47%|████▋     | 195/415 [00:16<00:20, 10.72it/s]\u001B[A\n",
      " 47%|████▋     | 197/415 [00:17<00:23,  9.22it/s]\u001B[A\n",
      " 48%|████▊     | 199/415 [00:17<00:25,  8.37it/s]\u001B[A\n",
      " 48%|████▊     | 201/415 [00:17<00:24,  8.80it/s]\u001B[A\n",
      " 49%|████▉     | 203/415 [00:18<00:25,  8.36it/s]\u001B[A\n",
      " 49%|████▉     | 205/415 [00:18<00:21,  9.71it/s]\u001B[A\n",
      " 50%|████▉     | 207/415 [00:18<00:21,  9.54it/s]\u001B[A\n",
      " 51%|█████     | 210/415 [00:18<00:17, 11.74it/s]\u001B[A\n",
      " 51%|█████     | 212/415 [00:18<00:19, 10.50it/s]\u001B[A\n",
      " 52%|█████▏    | 214/415 [00:18<00:19, 10.24it/s]\u001B[A\n",
      " 52%|█████▏    | 216/415 [00:19<00:17, 11.31it/s]\u001B[A\n",
      " 53%|█████▎    | 218/415 [00:19<00:17, 11.15it/s]\u001B[A\n",
      " 53%|█████▎    | 220/415 [00:19<00:17, 10.90it/s]\u001B[A\n",
      " 53%|█████▎    | 222/415 [00:19<00:20,  9.43it/s]\u001B[A\n",
      " 54%|█████▍    | 226/415 [00:19<00:15, 11.85it/s]\u001B[A\n",
      " 55%|█████▌    | 230/415 [00:20<00:14, 13.21it/s]\u001B[A\n",
      " 56%|█████▌    | 232/415 [00:20<00:17, 10.42it/s]\u001B[A\n",
      " 56%|█████▋    | 234/415 [00:20<00:17, 10.18it/s]\u001B[A\n",
      " 57%|█████▋    | 236/415 [00:20<00:18,  9.56it/s]\u001B[A\n",
      " 57%|█████▋    | 238/415 [00:20<00:16, 10.46it/s]\u001B[A\n",
      " 58%|█████▊    | 240/415 [00:21<00:17, 10.07it/s]\u001B[A\n",
      " 58%|█████▊    | 242/415 [00:21<00:15, 11.41it/s]\u001B[A\n",
      " 59%|█████▉    | 244/415 [00:21<00:14, 11.54it/s]\u001B[A\n",
      " 59%|█████▉    | 246/415 [00:21<00:14, 11.44it/s]\u001B[A\n",
      " 60%|█████▉    | 248/415 [00:22<00:20,  8.06it/s]\u001B[A\n",
      " 60%|██████    | 249/415 [00:22<00:23,  7.18it/s]\u001B[A\n",
      " 60%|██████    | 251/415 [00:22<00:18,  8.68it/s]\u001B[A\n",
      " 61%|██████    | 254/415 [00:22<00:16,  9.96it/s]\u001B[A\n",
      " 62%|██████▏   | 256/415 [00:22<00:18,  8.42it/s]\u001B[A\n",
      " 62%|██████▏   | 258/415 [00:23<00:20,  7.53it/s]\u001B[A\n",
      " 62%|██████▏   | 259/415 [00:23<00:22,  6.86it/s]\u001B[A\n",
      " 63%|██████▎   | 261/415 [00:23<00:20,  7.51it/s]\u001B[A\n",
      " 63%|██████▎   | 263/415 [00:23<00:20,  7.46it/s]\u001B[A\n",
      " 64%|██████▎   | 264/415 [00:24<00:22,  6.85it/s]\u001B[A\n",
      " 64%|██████▍   | 265/415 [00:24<00:20,  7.14it/s]\u001B[A\n",
      " 64%|██████▍   | 266/415 [00:24<00:22,  6.64it/s]\u001B[A\n",
      " 64%|██████▍   | 267/415 [00:24<00:21,  6.97it/s]\u001B[A\n",
      " 65%|██████▍   | 268/415 [00:24<00:20,  7.34it/s]\u001B[A\n",
      " 65%|██████▌   | 270/415 [00:24<00:18,  7.88it/s]\u001B[A\n",
      " 65%|██████▌   | 271/415 [00:25<00:23,  6.03it/s]\u001B[A\n",
      " 66%|██████▌   | 272/415 [00:25<00:26,  5.41it/s]\u001B[A\n",
      " 66%|██████▌   | 274/415 [00:25<00:20,  6.80it/s]\u001B[A\n",
      " 67%|██████▋   | 277/415 [00:25<00:16,  8.30it/s]\u001B[A\n",
      " 67%|██████▋   | 279/415 [00:25<00:15,  8.92it/s]\u001B[A\n",
      " 68%|██████▊   | 282/415 [00:26<00:13,  9.50it/s]\u001B[A\n",
      " 68%|██████▊   | 284/415 [00:26<00:14,  9.15it/s]\u001B[A\n",
      " 69%|██████▉   | 286/415 [00:26<00:12, 10.17it/s]\u001B[A\n",
      " 69%|██████▉   | 288/415 [00:26<00:12, 10.42it/s]\u001B[A\n",
      " 70%|██████▉   | 290/415 [00:26<00:12, 10.25it/s]\u001B[A\n",
      " 70%|███████   | 292/415 [00:26<00:10, 11.47it/s]\u001B[A\n",
      " 71%|███████   | 294/415 [00:27<00:12,  9.97it/s]\u001B[A\n",
      " 71%|███████▏  | 296/415 [00:27<00:11, 10.39it/s]\u001B[A\n",
      " 72%|███████▏  | 298/415 [00:27<00:10, 10.64it/s]\u001B[A\n",
      " 72%|███████▏  | 300/415 [00:27<00:12,  9.44it/s]\u001B[A\n",
      " 73%|███████▎  | 302/415 [00:27<00:10, 10.72it/s]\u001B[A\n",
      " 73%|███████▎  | 304/415 [00:28<00:10, 10.66it/s]\u001B[A\n",
      " 74%|███████▎  | 306/415 [00:28<00:09, 11.13it/s]\u001B[A\n",
      " 74%|███████▍  | 309/415 [00:28<00:08, 12.63it/s]\u001B[A\n",
      " 75%|███████▍  | 311/415 [00:28<00:08, 12.17it/s]\u001B[A\n",
      " 76%|███████▌  | 314/415 [00:28<00:06, 14.68it/s]\u001B[A\n",
      " 76%|███████▋  | 317/415 [00:28<00:05, 16.60it/s]\u001B[A\n",
      " 77%|███████▋  | 319/415 [00:29<00:09, 10.54it/s]\u001B[A\n",
      " 77%|███████▋  | 321/415 [00:29<00:07, 11.87it/s]\u001B[A\n",
      " 78%|███████▊  | 323/415 [00:29<00:09,  9.41it/s]\u001B[A\n",
      " 78%|███████▊  | 325/415 [00:29<00:09,  9.47it/s]\u001B[A\n",
      " 79%|███████▉  | 327/415 [00:30<00:10,  8.65it/s]\u001B[A\n",
      " 79%|███████▉  | 329/415 [00:30<00:08,  9.62it/s]\u001B[A\n",
      " 80%|███████▉  | 331/415 [00:30<00:08,  9.45it/s]\u001B[A\n",
      " 80%|████████  | 333/415 [00:30<00:07, 10.86it/s]\u001B[A\n",
      " 81%|████████  | 335/415 [00:30<00:07, 10.43it/s]\u001B[A\n",
      " 81%|████████  | 337/415 [00:31<00:07,  9.75it/s]\u001B[A\n",
      " 82%|████████▏ | 339/415 [00:31<00:07, 10.21it/s]\u001B[A\n",
      " 82%|████████▏ | 341/415 [00:31<00:07,  9.97it/s]\u001B[A\n",
      " 83%|████████▎ | 343/415 [00:31<00:08,  8.71it/s]\u001B[A\n",
      " 83%|████████▎ | 345/415 [00:31<00:06, 10.23it/s]\u001B[A\n",
      " 84%|████████▎ | 347/415 [00:32<00:06, 10.86it/s]\u001B[A\n",
      " 84%|████████▍ | 349/415 [00:32<00:05, 11.62it/s]\u001B[A\n",
      " 85%|████████▍ | 351/415 [00:32<00:06,  9.19it/s]\u001B[A\n",
      " 85%|████████▌ | 353/415 [00:32<00:06,  9.34it/s]\u001B[A\n",
      " 86%|████████▌ | 355/415 [00:32<00:06,  9.09it/s]\u001B[A\n",
      " 86%|████████▌ | 357/415 [00:33<00:06,  9.34it/s]\u001B[A\n",
      " 86%|████████▋ | 358/415 [00:33<00:06,  8.32it/s]\u001B[A\n",
      " 87%|████████▋ | 360/415 [00:33<00:05,  9.75it/s]\u001B[A\n",
      " 87%|████████▋ | 362/415 [00:33<00:06,  8.66it/s]\u001B[A\n",
      " 88%|████████▊ | 364/415 [00:33<00:05,  9.77it/s]\u001B[A\n",
      " 88%|████████▊ | 366/415 [00:34<00:05,  9.35it/s]\u001B[A\n",
      " 89%|████████▊ | 368/415 [00:34<00:05,  9.09it/s]\u001B[A\n",
      " 89%|████████▉ | 370/415 [00:34<00:05,  8.63it/s]\u001B[A\n",
      " 90%|████████▉ | 372/415 [00:34<00:04,  9.68it/s]\u001B[A\n",
      " 90%|█████████ | 374/415 [00:34<00:04,  9.60it/s]\u001B[A\n",
      " 91%|█████████ | 377/415 [00:35<00:03, 11.03it/s]\u001B[A\n",
      " 91%|█████████▏| 379/415 [00:35<00:03, 11.07it/s]\u001B[A\n",
      " 92%|█████████▏| 381/415 [00:35<00:02, 12.43it/s]\u001B[A\n",
      " 92%|█████████▏| 383/415 [00:35<00:02, 11.41it/s]\u001B[A\n",
      " 93%|█████████▎| 385/415 [00:35<00:02, 10.97it/s]\u001B[A\n",
      " 93%|█████████▎| 387/415 [00:36<00:02,  9.82it/s]\u001B[A\n",
      " 94%|█████████▎| 389/415 [00:36<00:02,  9.55it/s]\u001B[A\n",
      " 94%|█████████▍| 391/415 [00:36<00:02,  9.00it/s]\u001B[A\n",
      " 95%|█████████▍| 393/415 [00:36<00:02, 10.09it/s]\u001B[A\n",
      " 96%|█████████▌| 397/415 [00:36<00:01, 12.12it/s]\u001B[A\n",
      " 97%|█████████▋| 403/415 [00:36<00:00, 15.75it/s]\u001B[A\n",
      " 98%|█████████▊| 406/415 [00:37<00:00, 16.94it/s]\u001B[A\n",
      "100%|██████████| 415/415 [00:37<00:00, 11.14it/s]\u001B[A\n",
      "100%|██████████| 1/1 [00:37<00:00, 37.25s/it]\n"
     ]
    },
    {
     "name": "stdout",
     "output_type": "stream",
     "text": [
      "Processing datasets:\n",
      "-- ../../data/ucy/train/nomap_students01.csv\n",
      "Total dataset size: 1218\n"
     ]
    }
   ],
   "source": [
    "# ------------\n",
    "# Load dataset\n",
    "# ------------\n",
    "\n",
    "save_prefix = 'students'\n",
    "# Define which experiment you want to analyze\n",
    "dataset = TrajpredDataset(\n",
    "    model.predictor,\n",
    "    data_dir='../../data',\n",
    "    # datasets=['eth'],\n",
    "    experiments=['nomap_students01'],\n",
    "    save_tracks=True,\n",
    "    stride=20,\n",
    "    min_track_length=1.0\n",
    ")"
   ],
   "metadata": {
    "collapsed": false,
    "pycharm": {
     "name": "#%%\n"
    }
   }
  },
  {
   "cell_type": "markdown",
   "source": [
    "## Analyzing the raw track data"
   ],
   "metadata": {
    "collapsed": false,
    "pycharm": {
     "name": "#%% md\n"
    }
   }
  },
  {
   "cell_type": "code",
   "execution_count": 31,
   "outputs": [
    {
     "data": {
      "text/plain": "<Figure size 360x360 with 1 Axes>",
      "image/png": "[encoded data removed]"
     },
     "metadata": {},
     "output_type": "display_data"
    }
   ],
   "source": [
    "# ------------\n",
    "# Velocity Profile\n",
    "# ------------\n",
    "\n",
    "# plt.figure()\n",
    "dataset.tracks['Vabs'] = np.sqrt( dataset.tracks.Vx.values**2 + dataset.tracks.Vy.values**2)\n",
    "sns.displot(data=dataset.tracks, x=\"Vabs\", kde=True)\n",
    "plt.savefig(save_prefix+'_velocity.png')"
   ],
   "metadata": {
    "collapsed": false,
    "pycharm": {
     "name": "#%%\n"
    }
   }
  },
  {
   "cell_type": "code",
   "execution_count": 32,
   "outputs": [
    {
     "data": {
      "text/plain": "<Figure size 360x360 with 1 Axes>",
      "image/png": "[encoded data removed]"
     },
     "metadata": {},
     "output_type": "display_data"
    }
   ],
   "source": [
    "# ------------\n",
    "# Map occupancy\n",
    "# ------------\n",
    "sns.displot(data=dataset.tracks, x=\"X\", y=\"Y\", binwidth=(.5, .5))\n",
    "plt.savefig(save_prefix+'_occupancy_map.png')\n",
    "\n",
    "# TODO: add background image\n",
    "# with open(example['global_map_name']+'.yaml', 'r') as yaml_file:\n",
    "#     map_state = yaml.safe_load(yaml_file)\n",
    "#     map_state['image'] = cv2.flip(cv2.imread(example['global_map_name']+'.png'), 0)\n",
    "#\n",
    "# new_image = deepcopy(map_state['image'])\n"
   ],
   "metadata": {
    "collapsed": false,
    "pycharm": {
     "name": "#%%\n"
    }
   }
  },
  {
   "cell_type": "markdown",
   "source": [
    "## Analyzing the model inputs\n",
    "\n",
    "After filtering out tracks, depending on how short the tracks are (standing still) or if there are too much frame gaps\n",
    "in the track.\n",
    "\n",
    "Note: the model inputs depend on what kind of architecture is used. For now this notebook only supports the eth model."
   ],
   "metadata": {
    "collapsed": false
   }
  },
  {
   "cell_type": "code",
   "execution_count": 33,
   "outputs": [
    {
     "data": {
      "text/plain": "<Figure size 360x360 with 1 Axes>",
      "image/png": "[encoded data removed]"
     },
     "metadata": {},
     "output_type": "display_data"
    }
   ],
   "source": [
    "# ------------\n",
    "# Ego input profile\n",
    "# Note: This graph depends on whether the inputs are rotated w.r.t. the ego heading or not.\n",
    "# ------------\n",
    "\n",
    "V_abs = np.linalg.norm(dataset._data['ego_input'], axis=2).flatten()\n",
    "sns.displot(x=V_abs, kde=True)\n",
    "plt.savefig(save_prefix+'_training_velocity.png')"
   ],
   "metadata": {
    "collapsed": false,
    "pycharm": {
     "name": "#%%\n"
    }
   }
  },
  {
   "cell_type": "code",
   "execution_count": 34,
   "outputs": [
    {
     "ename": "KeyError",
     "evalue": "'apg_input'",
     "output_type": "error",
     "traceback": [
      "\u001B[0;31m---------------------------------------------------------------------------\u001B[0m",
      "\u001B[0;31mKeyError\u001B[0m                                  Traceback (most recent call last)",
      "\u001B[0;32m<ipython-input-34-916d20811f3b>\u001B[0m in \u001B[0;36m<module>\u001B[0;34m\u001B[0m\n\u001B[1;32m      4\u001B[0m \u001B[0;31m# ------------\u001B[0m\u001B[0;34m\u001B[0m\u001B[0;34m\u001B[0m\u001B[0;34m\u001B[0m\u001B[0m\n\u001B[1;32m      5\u001B[0m \u001B[0;34m\u001B[0m\u001B[0m\n\u001B[0;32m----> 6\u001B[0;31m \u001B[0msummed_apg\u001B[0m \u001B[0;34m=\u001B[0m \u001B[0mnp\u001B[0m\u001B[0;34m.\u001B[0m\u001B[0msum\u001B[0m\u001B[0;34m(\u001B[0m\u001B[0mdataset\u001B[0m\u001B[0;34m.\u001B[0m\u001B[0m_data\u001B[0m\u001B[0;34m[\u001B[0m\u001B[0;34m'apg_input'\u001B[0m\u001B[0;34m]\u001B[0m\u001B[0;34m.\u001B[0m\u001B[0mreshape\u001B[0m\u001B[0;34m(\u001B[0m\u001B[0;34m-\u001B[0m\u001B[0;36m1\u001B[0m\u001B[0;34m,\u001B[0m \u001B[0mdataset\u001B[0m\u001B[0;34m.\u001B[0m\u001B[0m_data\u001B[0m\u001B[0;34m[\u001B[0m\u001B[0;34m'apg_input'\u001B[0m\u001B[0;34m]\u001B[0m\u001B[0;34m.\u001B[0m\u001B[0mshape\u001B[0m\u001B[0;34m[\u001B[0m\u001B[0;34m-\u001B[0m\u001B[0;36m1\u001B[0m\u001B[0;34m]\u001B[0m\u001B[0;34m)\u001B[0m\u001B[0;34m,\u001B[0m \u001B[0maxis\u001B[0m\u001B[0;34m=\u001B[0m\u001B[0;36m0\u001B[0m\u001B[0;34m)\u001B[0m\u001B[0;34m\u001B[0m\u001B[0;34m\u001B[0m\u001B[0m\n\u001B[0m\u001B[1;32m      7\u001B[0m \u001B[0msummed_apg_norm\u001B[0m \u001B[0;34m=\u001B[0m \u001B[0msummed_apg\u001B[0m\u001B[0;34m/\u001B[0m\u001B[0mnp\u001B[0m\u001B[0;34m.\u001B[0m\u001B[0mlinalg\u001B[0m\u001B[0;34m.\u001B[0m\u001B[0mnorm\u001B[0m\u001B[0;34m(\u001B[0m\u001B[0msummed_apg\u001B[0m\u001B[0;34m)\u001B[0m\u001B[0;34m\u001B[0m\u001B[0;34m\u001B[0m\u001B[0m\n\u001B[1;32m      8\u001B[0m \u001B[0;31m# d = {'Angles': angle, 'Radius': summed_apg_norm}\u001B[0m\u001B[0;34m\u001B[0m\u001B[0;34m\u001B[0m\u001B[0;34m\u001B[0m\u001B[0m\n",
      "\u001B[0;31mKeyError\u001B[0m: 'apg_input'"
     ]
    }
   ],
   "source": [
    "# ------------\n",
    "# Angular pedestrian grid input profile\n",
    "# Note: This graph depends on whether the inputs are rotated w.r.t. the ego heading or not.\n",
    "# ------------\n",
    "\n",
    "summed_apg = np.sum(dataset._data['apg_input'].reshape(-1, dataset._data['apg_input'].shape[-1]), axis=0)\n",
    "summed_apg_norm = summed_apg/np.linalg.norm(summed_apg)\n",
    "# d = {'Angles': angle, 'Radius': summed_apg_norm}\n",
    "# df = pd.DataFrame(data=d)\n",
    "\n",
    "### making the plot\n",
    "# g = sns.FacetGrid(df, subplot_kws=dict(projection='polar'), height=5, sharex=False, sharey=False, despine=False)\n",
    "# g.map_dataframe(sns.lineplot, x='Angles', y='Radius')\n",
    "\n",
    "## making the plot\n",
    "N = len(summed_apg_norm)\n",
    "angle = np.linspace(0.0, 2 * np.pi, N, endpoint=False)\n",
    "bottom = 6\n",
    "max_height = 8\n",
    "width = (2*np.pi)/N\n",
    "ax = plt.subplot(111, polar=True)\n",
    "bars = ax.bar(angle, summed_apg_norm*max_height, width=width, bottom=bottom)\n",
    "\n",
    "# Use custom colors and opacity\n",
    "for r, bar in zip(summed_apg_norm*max_height, bars):\n",
    "    bar.set_facecolor(plt.cm.jet(r / 5))\n",
    "    bar.set_alpha(0.8)\n",
    "\n",
    "plt.show()\n"
   ],
   "metadata": {
    "collapsed": false,
    "pycharm": {
     "name": "#%%\n"
    }
   }
  },
  {
   "cell_type": "code",
   "execution_count": 35,
   "outputs": [
    {
     "data": {
      "text/plain": "<Figure size 360x360 with 1 Axes>",
      "image/png": "[encoded data removed]"
     },
     "metadata": {},
     "output_type": "display_data"
    }
   ],
   "source": [
    "# ------------\n",
    "# Average prediction target\n",
    "# Note: This graph depends on whether the inputs are rotated w.r.t. the ego heading or not.\n",
    "# Note: the target distribution is taken with the pedestrians current position as origin\n",
    "# ------------\n",
    "\n",
    "targets = dataset._data['target'].reshape(-1, 2)\n",
    "df = pd.DataFrame(data=targets, columns=['X', 'Y'])\n",
    "\n",
    "### making the plot\n",
    "sns.displot(data=df, x=\"X\", y=\"Y\", binwidth=(.1, .1))\n",
    "# g = sns.FacetGrid(df, subplot_kws=dict(projection='polar'), height=5, sharex=False, sharey=False, despine=False)\n",
    "# g.map_dataframe(sns.scatterplot, x='Angles', y='Radius')\n",
    "# plt.show()\n",
    "plt.savefig(save_prefix+'_targets.png')\n"
   ],
   "metadata": {
    "collapsed": false,
    "pycharm": {
     "name": "#%%\n"
    }
   }
  },
  {
   "cell_type": "code",
   "execution_count": 36,
   "outputs": [],
   "source": [
    "# ------------\n",
    "# Look at correlation between (apg / target) and (ego / target)\n",
    "# Note: This graph depends on whether the inputs are rotated w.r.t. the ego heading or not.\n",
    "# Note: the target distribution is taken with the pedestrians current position as origin\n",
    "# ------------"
   ],
   "metadata": {
    "collapsed": false,
    "pycharm": {
     "name": "#%%\n"
    }
   }
  },
  {
   "cell_type": "code",
   "execution_count": 29,
   "outputs": [],
   "source": [],
   "metadata": {
    "collapsed": false,
    "pycharm": {
     "name": "#%%\n"
    }
   }
  },
  {
   "cell_type": "code",
   "execution_count": null,
   "outputs": [],
   "source": [],
   "metadata": {
    "collapsed": false,
    "pycharm": {
     "name": "#%%\n"
    }
   }
  }
 ],
 "metadata": {
  "kernelspec": {
   "display_name": "Python 3",
   "language": "python",
   "name": "python3"
  },
  "language_info": {
   "codemirror_mode": {
    "name": "ipython",
    "version": 2
   },
   "file_extension": ".py",
   "mimetype": "text/x-python",
   "name": "python",
   "nbconvert_exporter": "python",
   "pygments_lexer": "ipython2",
   "version": "2.7.6"
  }
 },
 "nbformat": 4,
 "nbformat_minor": 0
}